{
 "cells": [
  {
   "cell_type": "code",
   "execution_count": 1,
   "metadata": {},
   "outputs": [],
   "source": [
    "import tensorflow\n",
    "import keras\n",
    "import numpy\n",
    "import seaborn\n",
    "import matplotlib"
   ]
  },
  {
   "cell_type": "code",
   "execution_count": 2,
   "metadata": {},
   "outputs": [],
   "source": [
    "import math"
   ]
  },
  {
   "cell_type": "code",
   "execution_count": 3,
   "metadata": {},
   "outputs": [
    {
     "name": "stdout",
     "output_type": "stream",
     "text": [
      "Phương trình có hai nghiệm phân biệt: x1 = 2.0, x2 = 1.0\n"
     ]
    }
   ],
   "source": [
    "\n",
    "def giai_phuong_trinh_bac_hai(a, b, c):\n",
    "    if a == 0:\n",
    "        if b == 0:\n",
    "            return \"Phương trình vô nghiệm\" if c != 0 else \"Phương trình vô số nghiệm\"\n",
    "        else:\n",
    "            return f\"Phương trình có một nghiệm: x = {-c / b}\"\n",
    "    \n",
    "    delta = b**2 - 4*a*c\n",
    "    \n",
    "    if delta > 0:\n",
    "        x1 = (-b + math.sqrt(delta)) / (2*a)\n",
    "        x2 = (-b - math.sqrt(delta)) / (2*a)\n",
    "        return f\"Phương trình có hai nghiệm phân biệt: x1 = {x1}, x2 = {x2}\"\n",
    "    elif delta == 0:\n",
    "        x = -b / (2*a)\n",
    "        return f\"Phương trình có nghiệm kép: x = {x}\"\n",
    "    else:\n",
    "        return \"Phương trình vô nghiệm\"\n",
    "\n",
    "# Ví dụ sử dụng\n",
    "a = 1\n",
    "b = -3\n",
    "c = 2\n",
    "ket_qua = giai_phuong_trinh_bac_hai(a, b, c)\n",
    "print(ket_qua)\n"
   ]
  },
  {
   "cell_type": "code",
   "execution_count": 5,
   "metadata": {},
   "outputs": [
    {
     "name": "stdout",
     "output_type": "stream",
     "text": [
      "Name: Lộc Đinh. Subject: Math\n",
      "Name: n. Subject: Physics\n"
     ]
    }
   ],
   "source": [
    "class Student:\n",
    "    def __init__(self, name, subject):\n",
    "        self.name = name\n",
    "        self.subject = subject\n",
    "\n",
    "    def print_info(self):\n",
    "        print(f\"Name: {self.name}. Subject: {self.subject}\")\n",
    "\n",
    "student1 = Student(\"Lộc Đinh\", \"Math\")\n",
    "student2 = Student(\"n\", \"Physics\")\n",
    "\n",
    "student1.print_info()\n",
    "student2.print_info()\n"
   ]
  },
  {
   "cell_type": "code",
   "execution_count": 6,
   "metadata": {},
   "outputs": [
    {
     "ename": "SyntaxError",
     "evalue": "invalid syntax (2691820820.py, line 1)",
     "output_type": "error",
     "traceback": [
      "\u001b[1;36m  Cell \u001b[1;32mIn[6], line 1\u001b[1;36m\u001b[0m\n\u001b[1;33m    class Student {\u001b[0m\n\u001b[1;37m                  ^\u001b[0m\n\u001b[1;31mSyntaxError\u001b[0m\u001b[1;31m:\u001b[0m invalid syntax\n"
     ]
    }
   ],
   "source": [
    "class Student {\n",
    "    constructor(name, subject) {\n",
    "        this.name = name;\n",
    "        this.subject = subject;\n",
    "    }\n",
    "\n",
    "    printInfo() {\n",
    "        console.log(`Name: ${this.name}. Subject: ${this.subject}`);\n",
    "    }\n",
    "}\n",
    "\n",
    "const student1 = new Student(\"Lộc Đinh\", \"Math\");\n",
    "const student2 = new Student(\"n\", \"Physics\");\n",
    "\n",
    "student1.printInfo();\n",
    "student2.printInfo();\n"
   ]
  },
  {
   "cell_type": "code",
   "execution_count": null,
   "metadata": {},
   "outputs": [],
   "source": []
  }
 ],
 "metadata": {
  "kernelspec": {
   "display_name": "Python 3 (ipykernel)",
   "language": "python",
   "name": "python3"
  },
  "language_info": {
   "codemirror_mode": {
    "name": "ipython",
    "version": 3
   },
   "file_extension": ".py",
   "mimetype": "text/x-python",
   "name": "python",
   "nbconvert_exporter": "python",
   "pygments_lexer": "ipython3",
   "version": "3.8.18"
  }
 },
 "nbformat": 4,
 "nbformat_minor": 4
}
